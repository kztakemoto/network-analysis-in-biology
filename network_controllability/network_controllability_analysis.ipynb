{
  "nbformat": 4,
  "nbformat_minor": 0,
  "metadata": {
    "colab": {
      "provenance": []
    },
    "kernelspec": {
      "name": "python3",
      "display_name": "Python 3"
    },
    "language_info": {
      "name": "python"
    }
  },
  "cells": [
    {
      "cell_type": "markdown",
      "source": [
        "# ネットワーク可制御性解析の例\n",
        "ノードの分類（「不必要」「中立」「不可欠」）とDrug targetの関連性を調査\n",
        "\n",
        "networkxの読み込み"
      ],
      "metadata": {
        "id": "fdE4tbDp6ZSM"
      }
    },
    {
      "cell_type": "code",
      "source": [
        "import networkx as nx"
      ],
      "metadata": {
        "id": "Rf6OcvIW6ZCS"
      },
      "execution_count": 1,
      "outputs": []
    },
    {
      "cell_type": "markdown",
      "source": [
        "その他ライブラリ"
      ],
      "metadata": {
        "id": "GKv-qFiX6f7b"
      }
    },
    {
      "cell_type": "code",
      "source": [
        "import pandas as pd\n",
        "import matplotlib.pyplot as plt\n",
        "import numpy as np\n",
        "import seaborn as sns\n",
        "from scipy import stats"
      ],
      "metadata": {
        "id": "tRknPUJT6fal"
      },
      "execution_count": 2,
      "outputs": []
    },
    {
      "cell_type": "code",
      "execution_count": 3,
      "metadata": {
        "colab": {
          "base_uri": "https://localhost:8080/"
        },
        "id": "6ug1oFwY6Uzz",
        "outputId": "07e0f9f4-6cc5-4fa4-cb25-e7db1af9debe"
      },
      "outputs": [
        {
          "output_type": "stream",
          "name": "stdout",
          "text": [
            "Collecting pulp\n",
            "  Downloading PuLP-2.9.0-py3-none-any.whl.metadata (5.4 kB)\n",
            "Downloading PuLP-2.9.0-py3-none-any.whl (17.7 MB)\n",
            "\u001b[2K   \u001b[90m━━━━━━━━━━━━━━━━━━━━━━━━━━━━━━━━━━━━━━━━\u001b[0m \u001b[32m17.7/17.7 MB\u001b[0m \u001b[31m25.3 MB/s\u001b[0m eta \u001b[36m0:00:00\u001b[0m\n",
            "\u001b[?25hInstalling collected packages: pulp\n",
            "Successfully installed pulp-2.9.0\n"
          ]
        }
      ],
      "source": [
        "!pip install pulp"
      ]
    },
    {
      "cell_type": "code",
      "source": [
        "import pulp"
      ],
      "metadata": {
        "id": "gc0Jm5tj6rp6"
      },
      "execution_count": 4,
      "outputs": []
    },
    {
      "cell_type": "markdown",
      "source": [
        "## 乳がんタンパク質相互作用ネットワークの読み込み\n",
        "* エッジリスト形式\n",
        "* 有向ネットワーク\n",
        "* Kanhaiya K, Czeizler E, Gratie C, Petre I (2017) Controlling directed protein interaction networks in cancer. Sci Rep 7, 10327. doi: [10.1038/s41598-017-10491-y](https://doi.org/10.1038/s41598-017-10491-y)"
      ],
      "metadata": {
        "id": "xVpSpd7m66Xc"
      }
    },
    {
      "cell_type": "code",
      "source": [
        "df = pd.read_csv(\"https://raw.githubusercontent.com/kztakemoto/network-analysis-in-biology/refs/heads/main/data/breast_cancer_directed_ppi_Kanhaiya_etal_2017.csv\")\n",
        "\n",
        "# グラフオブジェクトの作成\n",
        "g_dir = nx.from_pandas_edgelist(df,\n",
        "                           source=\"source\",\n",
        "                           target=\"target\",\n",
        "                           create_using=nx.DiGraph())  # 有向グラフとして作成\n",
        "\n",
        "# 多重エッジと自己ループの削除（必須でない）\n",
        "g_dir = nx.DiGraph(g_dir)  # 多重エッジを自動的に削除\n",
        "g_dir.remove_edges_from(nx.selfloop_edges(g_dir))  # 自己ループを削除\n",
        "\n",
        "# 最大強連結成分の取得（本来は不必要だが，小さなネットワークを得るために実行）\n",
        "g = g_dir.subgraph(max(nx.strongly_connected_components(g_dir), key=len))"
      ],
      "metadata": {
        "id": "YEFJxzRM7C8c"
      },
      "execution_count": 5,
      "outputs": []
    },
    {
      "cell_type": "markdown",
      "source": [
        "## 最大マッチングに基づくネットワーク可制御性に基づくいてノードを分類する\n",
        "関連する関数を読み込む"
      ],
      "metadata": {
        "id": "gOAb0n_N7a9l"
      }
    },
    {
      "cell_type": "code",
      "source": [
        "def get_mds_matching(g, relax=False):\n",
        "  # Handle edge weights\n",
        "  for e in g.edges():\n",
        "    if 'weight' not in g[e[0]][e[1]]:\n",
        "        g[e[0]][e[1]]['weight'] = 1.0\n",
        "\n",
        "  # Handle node names\n",
        "  mapping = {old: i for i, old in enumerate(g.nodes())}\n",
        "  g = nx.relabel_nodes(g, mapping)\n",
        "\n",
        "  # Get edge list and create optimization problem\n",
        "  edge_list = list(g.edges())\n",
        "  n_nodes = g.number_of_nodes()\n",
        "  n_edges = g.number_of_edges()\n",
        "\n",
        "  # Create LP problem\n",
        "  prob = pulp.LpProblem(\"MaximumMatching\", pulp.LpMaximize)\n",
        "\n",
        "  # Decision variables\n",
        "  if relax:\n",
        "    x = pulp.LpVariable.dicts(\"edge\", range(n_edges), lowBound=0, upBound=1)\n",
        "  else:\n",
        "    x = pulp.LpVariable.dicts(\"edge\", range(n_edges), cat='Binary')\n",
        "\n",
        "  # Objective function\n",
        "  prob += pulp.lpSum([x[i] * g[edge_list[i][0]][edge_list[i][1]]['weight'] for i in range(n_edges)])\n",
        "\n",
        "  # Constraints\n",
        "  for i in range(n_nodes):\n",
        "    # Out-degree constraints\n",
        "    prob += pulp.lpSum([x[j] for j in range(n_edges) if edge_list[j][0] == i]) <= 1\n",
        "    # In-degree constraints\n",
        "    prob += pulp.lpSum([x[j] for j in range(n_edges) if edge_list[j][1] == i]) <= 1\n",
        "\n",
        "  # Solve the problem\n",
        "  prob.solve()\n",
        "\n",
        "  # Get matching solution\n",
        "  matching_links = [round(x[i].value()) for i in range(n_edges)]\n",
        "\n",
        "  # Find driver nodes\n",
        "  matched_nodes = set(edge_list[i][1] for i in range(n_edges) if matching_links[i] == 1)\n",
        "  driver_nodes = [1 if node not in matched_nodes else 0 for node in range(n_nodes)]\n",
        "\n",
        "  return {\n",
        "    \"minimum driver node set size\": sum(driver_nodes),\n",
        "    \"is driver node\": driver_nodes,\n",
        "    \"is matching link\": matching_links\n",
        "  }"
      ],
      "metadata": {
        "id": "bGIxCcbi7fOe"
      },
      "execution_count": 6,
      "outputs": []
    },
    {
      "cell_type": "code",
      "source": [
        "def node_classification_controllability(g, get_mds=get_mds_matching, relax=False):\n",
        "  # ノードの分類\n",
        "  node_class = []\n",
        "  # 元のグラフでの最小ドライバーノードセットのサイズ\n",
        "  mds_original = get_mds(g, relax)[\"minimum driver node set size\"]\n",
        "\n",
        "  # 各ノードについて処理\n",
        "  for v in g.nodes():\n",
        "    # ノードvを削除したグラフを作成\n",
        "    g_del = g.copy()\n",
        "    g_del.remove_node(v)\n",
        "\n",
        "    # 削除後のグラフでの最小ドライバーノードセットのサイズ\n",
        "    mds_del = get_mds(g_del, relax)[\"minimum driver node set size\"]\n",
        "\n",
        "    # ノードの分類\n",
        "    if mds_original == mds_del:\n",
        "        node_class.append(\"neutral\")\n",
        "    elif mds_original < mds_del:\n",
        "        node_class.append(\"indispensable\")\n",
        "    else:  # mds_original > mds_del\n",
        "        node_class.append(\"dispensable\")\n",
        "\n",
        "  return node_class"
      ],
      "metadata": {
        "id": "31wdRyJD7iv3"
      },
      "execution_count": 7,
      "outputs": []
    },
    {
      "cell_type": "markdown",
      "source": [
        "分類"
      ],
      "metadata": {
        "id": "vRLb-F3S7ubF"
      }
    },
    {
      "cell_type": "code",
      "source": [
        "classifications = node_classification_controllability(g, get_mds = get_mds_matching, relax = False)"
      ],
      "metadata": {
        "id": "ynn449-w7vnc"
      },
      "execution_count": 8,
      "outputs": []
    },
    {
      "cell_type": "markdown",
      "source": [
        "## 各ノード分類の次数の比較"
      ],
      "metadata": {
        "id": "JQdSGeC58SIQ"
      }
    },
    {
      "cell_type": "code",
      "source": [
        "# 次数を取得\n",
        "degrees = dict(g.degree())\n",
        "degrees_log = {node: np.log(deg) for node, deg in degrees.items()} # 対数化\n",
        "\n",
        "# ノードの分類結果とデータをDataFrameに結合\n",
        "df = pd.DataFrame({\n",
        "    'node': list(g.nodes()),\n",
        "    'log_degree': [degrees_log[node] for node in g.nodes()],\n",
        "    'node_class': classifications  # 前のコードで計算した分類結果\n",
        "})\n",
        "\n",
        "# 箱ひげ図の作成\n",
        "class_colors = {'dispensable': 'blue', 'indispensable': 'red', 'neutral': 'gray'}\n",
        "sns.boxplot(data=df,\n",
        "            x='node_class',\n",
        "            y='log_degree',\n",
        "            palette=class_colors)\n",
        "\n",
        "# グラフの設定\n",
        "plt.xlabel('Node class')\n",
        "plt.ylabel('log(node degree)')\n",
        "plt.title('Distribution of Node Degrees by Classification')"
      ],
      "metadata": {
        "colab": {
          "base_uri": "https://localhost:8080/",
          "height": 582
        },
        "id": "1oXVtCO28TJW",
        "outputId": "1d14c022-dbe2-4b07-dc6d-840c6c56984d"
      },
      "execution_count": 9,
      "outputs": [
        {
          "output_type": "stream",
          "name": "stderr",
          "text": [
            "<ipython-input-9-ca6c64ae3a76>:14: FutureWarning: \n",
            "\n",
            "Passing `palette` without assigning `hue` is deprecated and will be removed in v0.14.0. Assign the `x` variable to `hue` and set `legend=False` for the same effect.\n",
            "\n",
            "  sns.boxplot(data=df,\n"
          ]
        },
        {
          "output_type": "execute_result",
          "data": {
            "text/plain": [
              "Text(0.5, 1.0, 'Distribution of Node Degrees by Classification')"
            ]
          },
          "metadata": {},
          "execution_count": 9
        },
        {
          "output_type": "display_data",
          "data": {
            "text/plain": [
              "<Figure size 640x480 with 1 Axes>"
            ],
            "image/png": "[encoded data removed]"
          },
          "metadata": {}
        }
      ]
    },
    {
      "cell_type": "markdown",
      "source": [
        "## Drug targetのリストを読み込む\n",
        "アメリカ食品医薬品局が承認した（FDA-approved）薬剤標的タンパク質のリスト\n",
        "\n",
        "* Kanhaiya K, Czeizler E, Gratie C, Petre I (2017) Controlling directed protein interaction networks in cancer. Sci Rep 7, 10327. doi: [10.1038/s41598-017-10491-y](https://doi.org/10.1038/s41598-017-10491-y)"
      ],
      "metadata": {
        "id": "fdh6aqAX8_sU"
      }
    },
    {
      "cell_type": "code",
      "source": [
        "# 薬剤ターゲットのデータを読み込み\n",
        "drug_target = pd.read_csv(\"https://raw.githubusercontent.com/kztakemoto/network-analysis-in-biology/refs/heads/main/data/drug_target_proteins.csv\")\n",
        "# 薬剤ターゲットかどうか\n",
        "target_attr = {node: \"target\" if node in drug_target['target'].values else \"nontarget\" for node in g.nodes()}"
      ],
      "metadata": {
        "id": "4PwW5McW8_bt"
      },
      "execution_count": 10,
      "outputs": []
    },
    {
      "cell_type": "markdown",
      "source": [
        "## ノードクラスとDrug targetの関連性評価"
      ],
      "metadata": {
        "id": "QwaacekZ9xZu"
      }
    },
    {
      "cell_type": "code",
      "source": [
        "# ノードの分類とターゲット情報を DataFrame に変換\n",
        "node_data = pd.DataFrame({\n",
        "    'node_class': classifications,\n",
        "    'target': [target_attr[node] for node in g.nodes()]\n",
        "})"
      ],
      "metadata": {
        "id": "q-4WdSGE9umN"
      },
      "execution_count": 11,
      "outputs": []
    },
    {
      "cell_type": "code",
      "source": [
        "# 混同行列の作成\n",
        "conf_table = pd.crosstab(node_data['node_class'], node_data['target'])\n",
        "print(\"Confusion Table:\")\n",
        "print(conf_table)"
      ],
      "metadata": {
        "colab": {
          "base_uri": "https://localhost:8080/"
        },
        "id": "IXaq9k859-nZ",
        "outputId": "b369689c-d60e-4975-df37-5a977b9d1e8e"
      },
      "execution_count": 12,
      "outputs": [
        {
          "output_type": "stream",
          "name": "stdout",
          "text": [
            "Confusion Table:\n",
            "target         nontarget  target\n",
            "node_class                      \n",
            "dispensable           68       4\n",
            "indispensable         37      16\n",
            "neutral               63      14\n"
          ]
        }
      ]
    },
    {
      "cell_type": "markdown",
      "source": [
        "## 各ノードクラスにおけるDrug targetの割合を計算"
      ],
      "metadata": {
        "id": "jPs9kfpJ_18h"
      }
    },
    {
      "cell_type": "code",
      "source": [
        "# 各ノードクラスにおけるDrug targetの割合を計算\n",
        "target_ratio = conf_table['target'] / conf_table.sum(axis=1)\n",
        "print(\"\\nTarget Ratios:\")\n",
        "print(target_ratio)"
      ],
      "metadata": {
        "colab": {
          "base_uri": "https://localhost:8080/"
        },
        "id": "0DtXCvbX_smc",
        "outputId": "58ff959f-6008-46bb-95e7-676bd03ab9b8"
      },
      "execution_count": 13,
      "outputs": [
        {
          "output_type": "stream",
          "name": "stdout",
          "text": [
            "\n",
            "Target Ratios:\n",
            "node_class\n",
            "dispensable      0.055556\n",
            "indispensable    0.301887\n",
            "neutral          0.181818\n",
            "dtype: float64\n"
          ]
        }
      ]
    },
    {
      "cell_type": "markdown",
      "source": [
        "プロット"
      ],
      "metadata": {
        "id": "QPMBVCIC_4PC"
      }
    },
    {
      "cell_type": "code",
      "source": [
        "plt.bar(target_ratio.index, target_ratio.values, color=[class_colors[cls] for cls in target_ratio.index])"
      ],
      "metadata": {
        "colab": {
          "base_uri": "https://localhost:8080/",
          "height": 448
        },
        "id": "rmhkbiyK_8hr",
        "outputId": "cc39f6ce-8fe1-49f8-ea3e-8fbad8823794"
      },
      "execution_count": 14,
      "outputs": [
        {
          "output_type": "execute_result",
          "data": {
            "text/plain": [
              "<BarContainer object of 3 artists>"
            ]
          },
          "metadata": {},
          "execution_count": 14
        },
        {
          "output_type": "display_data",
          "data": {
            "text/plain": [
              "<Figure size 640x480 with 1 Axes>"
            ],
            "image/png": "[encoded data removed]"
          },
          "metadata": {}
        }
      ]
    },
    {
      "cell_type": "markdown",
      "source": [
        "## 関連性を統計検定（エンリッチメント解析）"
      ],
      "metadata": {
        "id": "NXb7yk28Acs-"
      }
    },
    {
      "cell_type": "code",
      "source": [
        "# 混同行列からデータを抽出\n",
        "contingency_table = conf_table.values\n",
        "\n",
        "# カイ二乗検定\n",
        "chi2, p_value, dof, expected = stats.chi2_contingency(conf_table)\n",
        "\n",
        "print(\"\\nChi-square Test for Independence\")\n",
        "print(\"---------------------------------\")\n",
        "print(f\"chi-square statistic: {chi2:.6f}\")\n",
        "print(f\"p-value: {p_value:.6f}\")\n",
        "print(f\"degrees of freedom: {dof}\")"
      ],
      "metadata": {
        "colab": {
          "base_uri": "https://localhost:8080/"
        },
        "id": "ODClXJJMAhqy",
        "outputId": "8207a0b3-7de1-4bfe-b61d-21b247b033ce"
      },
      "execution_count": 15,
      "outputs": [
        {
          "output_type": "stream",
          "name": "stdout",
          "text": [
            "\n",
            "Chi-square Test for Independence\n",
            "---------------------------------\n",
            "chi-square statistic: 13.394836\n",
            "p-value: 0.001234\n",
            "degrees of freedom: 2\n"
          ]
        }
      ]
    },
    {
      "cell_type": "markdown",
      "source": [
        "# やってみよう\n",
        "* このNotebookを参考にして，別の生物ネットワークを解析してみよう（dataに様々ある）。\n",
        "* `get_mds_matching`（最大マッチングに基づく手法）の代わりに，`get_mds_domination`（最小支配集合に基づく手法）を用いた場合，結果はどうなるでしょうか。\n",
        "* ノードのクラスと必須タンパク質には関係性があるでしょうか。具体的にどのような傾向があるでしょうか。\n",
        "* 乳がんにおける必須タンパク質のリスト\n",
        "  * Kanhaiya K, Czeizler E, Gratie C, Petre I (2017) Controlling directed protein interaction networks in cancer. Sci Rep 7, 10327. doi: [10.1038/s41598-017-10491-y](https://doi.org/10.1038/s41598-017-10491-y)\n",
        "* Notebookを参考に自分のデータを解析してみよう。"
      ],
      "metadata": {
        "id": "Ff5h-_3JBKhc"
      }
    }
  ]
}