{
  "nbformat": 4,
  "nbformat_minor": 0,
  "metadata": {
    "colab": {
      "provenance": []
    },
    "kernelspec": {
      "name": "python3",
      "display_name": "Python 3"
    },
    "language_info": {
      "name": "python"
    }
  },
  "cells": [
    {
      "cell_type": "markdown",
      "source": [
        "# ネットワーク指標の統計解析\n",
        "ランダム化ネットワークを使って，大腸菌のタンパク質相互作用ネットワークを例にして次のネットワーク指標の統計的有意性の評価を行います。\n",
        "* 平均クラスタ係数\n",
        "* 平均最短経路長\n",
        "\n",
        "networkxの読み込み"
      ],
      "metadata": {
        "id": "eXR58J-1zlbo"
      }
    },
    {
      "cell_type": "code",
      "execution_count": 1,
      "metadata": {
        "id": "7pVi_NGOzk2W"
      },
      "outputs": [],
      "source": [
        "import networkx as nx"
      ]
    },
    {
      "cell_type": "markdown",
      "source": [
        "その他ライブラリ"
      ],
      "metadata": {
        "id": "o_jZVyBqzti9"
      }
    },
    {
      "cell_type": "code",
      "source": [
        "import pandas as pd\n",
        "import matplotlib.pyplot as plt\n",
        "import numpy as np\n",
        "import scipy.sparse.csgraph as csgraph\n",
        "from scipy import stats"
      ],
      "metadata": {
        "id": "C0vvjckvzymb"
      },
      "execution_count": 2,
      "outputs": []
    },
    {
      "cell_type": "markdown",
      "source": [
        "igraphも使う（networkxのコンフィギュレーションモデルは自己ループや多重エッジの生成を許し、サンプリングに偏りがあるという問題があるので、igraphのものを使用）"
      ],
      "metadata": {
        "id": "JjN3LDUuz4ZX"
      }
    },
    {
      "cell_type": "code",
      "source": [
        "!pip install igraph"
      ],
      "metadata": {
        "colab": {
          "base_uri": "https://localhost:8080/"
        },
        "id": "lREdC-Ypz2Jp",
        "outputId": "9b150119-7f8c-45be-e015-c26dc39ee365"
      },
      "execution_count": 3,
      "outputs": [
        {
          "output_type": "stream",
          "name": "stdout",
          "text": [
            "Requirement already satisfied: igraph in /usr/local/lib/python3.11/dist-packages (0.11.8)\n",
            "Requirement already satisfied: texttable>=1.6.2 in /usr/local/lib/python3.11/dist-packages (from igraph) (1.7.0)\n"
          ]
        }
      ]
    },
    {
      "cell_type": "code",
      "source": [
        "import igraph as ig"
      ],
      "metadata": {
        "id": "fnFgko0u1eG8"
      },
      "execution_count": 4,
      "outputs": []
    },
    {
      "cell_type": "markdown",
      "source": [
        "平均最短経路長を計算する関数（networkxのは遅いので）"
      ],
      "metadata": {
        "id": "oAl9FcCi04-i"
      }
    },
    {
      "cell_type": "code",
      "source": [
        "def compute_distances(g, unweighted=False):\n",
        "  adj_matrix = nx.adjacency_matrix(g).toarray()\n",
        "  distances = csgraph.shortest_path(adj_matrix, directed=g.is_directed(), unweighted=unweighted)\n",
        "  d_ave = np.mean(distances[np.isfinite(distances) & (distances > 0)])\n",
        "  return d_ave, distances"
      ],
      "metadata": {
        "id": "1gECTEaO05mo"
      },
      "execution_count": 5,
      "outputs": []
    },
    {
      "cell_type": "markdown",
      "source": [
        "## 大腸菌のタンパク質相互作用ネットワークの読み込み\n",
        "* `../data/ecoli_ppi_Hu_etal_2009.txt`\n",
        "* エッジリスト形式\n",
        "* Hu P, Janga SC, Babu M, Díaz-Mejía JJ, Butland G, et al. Global functional atlas of Escherichia coli encompassing previously uncharacterized proteins. PLoS Biol. 2009 Apr 28;7(4):e96. doi: [10.1371/journal.pbio.1000096](https://doi.org/10.1371/journal.pbio.100009)."
      ],
      "metadata": {
        "id": "pkqP55hf0HMA"
      }
    },
    {
      "cell_type": "code",
      "source": [
        "# エッジリストの読み込み\n",
        "df = pd.read_csv(\"https://raw.githubusercontent.com/kztakemoto/network-analysis-in-biology/refs/heads/main/data/ecoli_ppi_Hu_etal_2009.txt\", sep='\\s+', header=None)\n",
        "\n",
        "# グラフオブジェクトの作成\n",
        "g = nx.from_pandas_edgelist(df, source=0, target=1)\n",
        "g = nx.Graph(g)  # 多重エッジを削除\n",
        "g.remove_edges_from(nx.selfloop_edges(g))  # 自己ループを削除\n",
        "\n",
        "# 最大連結成分の取得\n",
        "lcc = max(nx.connected_components(g), key=len)\n",
        "g = g.subgraph(lcc)"
      ],
      "metadata": {
        "id": "KKXAoU5N0jP2"
      },
      "execution_count": 6,
      "outputs": []
    },
    {
      "cell_type": "markdown",
      "source": [
        "## 現実のネットワークの平均クラスタ係数を計算"
      ],
      "metadata": {
        "id": "93CLSqU50tqm"
      }
    },
    {
      "cell_type": "code",
      "source": [
        "cc_real = nx.average_clustering(g)"
      ],
      "metadata": {
        "id": "eRLzFd5x09VO"
      },
      "execution_count": 7,
      "outputs": []
    },
    {
      "cell_type": "markdown",
      "source": [
        "## 現実のネットワークの平均最短経路長を計算"
      ],
      "metadata": {
        "id": "leJqeeyY0vCD"
      }
    },
    {
      "cell_type": "code",
      "source": [
        "apl_real, _ = compute_distances(g)"
      ],
      "metadata": {
        "id": "yfeUYcbv1EEB"
      },
      "execution_count": 8,
      "outputs": []
    },
    {
      "cell_type": "markdown",
      "source": [
        "## 100個のランダムネットワークを作成して，ネットワーク指標を計算する。\n",
        "平均クラスタ係数と平均最短経路長\n",
        "\n",
        "時間がかかります。\n",
        "\n",
        "コンフィギュレーションモデルによるネットワークランダム化のための関数"
      ],
      "metadata": {
        "id": "g-2B1yXU0xNO"
      }
    },
    {
      "cell_type": "code",
      "source": [
        "def randomization(g_ori):\n",
        "  # network to igraph\n",
        "  g_ori = ig.Graph.from_networkx(g_ori)\n",
        "  # 次数のベクトルを取得\n",
        "  deg = g_ori.degree()\n",
        "  # コンフィギュレーションモデルの作成\n",
        "  g_rand = ig.Graph.Degree_Sequence(deg, method=\"vl\")\n",
        "  # igraph to networkx\n",
        "  edgelist = g_rand.get_edgelist()\n",
        "  g_rand = nx.Graph(edgelist)\n",
        "  return g_rand"
      ],
      "metadata": {
        "id": "86yoCuQ92Bi7"
      },
      "execution_count": 9,
      "outputs": []
    },
    {
      "cell_type": "code",
      "source": [
        "cc_null = []\n",
        "apl_null = []\n",
        "\n",
        "for i in range(100):\n",
        "  g_null = randomization(g)\n",
        "\n",
        "  # 平均クラスタ係数\n",
        "  cc_null.append(nx.average_clustering(g_null))\n",
        "\n",
        "  # 平均最短経路長\n",
        "  apl_null_ind, _ = compute_distances(g_null)\n",
        "  apl_null.append(apl_null_ind)\n"
      ],
      "metadata": {
        "id": "HNZ19GfU1sY5"
      },
      "execution_count": 10,
      "outputs": []
    },
    {
      "cell_type": "code",
      "source": [
        "cc_null = np.array(cc_null)\n",
        "apl_null = np.array(apl_null)"
      ],
      "metadata": {
        "id": "QV2Q2xIL3biK"
      },
      "execution_count": 11,
      "outputs": []
    },
    {
      "cell_type": "markdown",
      "source": [
        "## Zスコアの計算"
      ],
      "metadata": {
        "id": "mk4ht4jO3h5x"
      }
    },
    {
      "cell_type": "code",
      "source": [
        "# 平均クラスタ係数\n",
        "z_cc = (cc_real - np.mean(cc_null)) / np.std(cc_null)\n",
        "# 平均最短経路長\n",
        "z_apl = (apl_real - np.mean(apl_null)) / np.std(apl_null)"
      ],
      "metadata": {
        "id": "THRU3pv13j3I"
      },
      "execution_count": 12,
      "outputs": []
    },
    {
      "cell_type": "markdown",
      "source": [
        "## 帰無分布と観測値（平均クラスタ係数）"
      ],
      "metadata": {
        "id": "TODV9rPP4DMO"
      }
    },
    {
      "cell_type": "code",
      "source": [
        "# ヒストグラムを描画\n",
        "plt.hist(cc_null, bins='auto', alpha=0.7)\n",
        "# x軸のラベルを設定\n",
        "plt.xlabel(\"<C>\")\n",
        "# 観測値を赤線で表示\n",
        "plt.axvline(x=cc_real, color='red')"
      ],
      "metadata": {
        "colab": {
          "base_uri": "https://localhost:8080/",
          "height": 467
        },
        "id": "SRGZbMRO32-z",
        "outputId": "1a49aa2f-8195-4742-db10-28882c552983"
      },
      "execution_count": 13,
      "outputs": [
        {
          "output_type": "execute_result",
          "data": {
            "text/plain": [
              "<matplotlib.lines.Line2D at 0x7abe86f6f510>"
            ]
          },
          "metadata": {},
          "execution_count": 13
        },
        {
          "output_type": "display_data",
          "data": {
            "text/plain": [
              "<Figure size 640x480 with 1 Axes>"
            ],
            "image/png": "[encoded data removed]"
          },
          "metadata": {}
        }
      ]
    },
    {
      "cell_type": "markdown",
      "source": [
        "## 帰無分布と観測値（平均最短経路長）"
      ],
      "metadata": {
        "id": "IYCwGr8f4FTP"
      }
    },
    {
      "cell_type": "code",
      "source": [
        "# ヒストグラムを描画\n",
        "plt.hist(apl_null, bins='auto', alpha=0.7)\n",
        "# x軸のラベルを設定\n",
        "plt.xlabel(\"<d>\")\n",
        "# 観測値を赤線で表示\n",
        "plt.axvline(x=apl_real, color='red')"
      ],
      "metadata": {
        "colab": {
          "base_uri": "https://localhost:8080/",
          "height": 467
        },
        "id": "rrP4D88T4GKj",
        "outputId": "66498601-b6a3-43a7-eed3-1a56a7aaf275"
      },
      "execution_count": 14,
      "outputs": [
        {
          "output_type": "execute_result",
          "data": {
            "text/plain": [
              "<matplotlib.lines.Line2D at 0x7abe865c8890>"
            ]
          },
          "metadata": {},
          "execution_count": 14
        },
        {
          "output_type": "display_data",
          "data": {
            "text/plain": [
              "<Figure size 640x480 with 1 Axes>"
            ],
            "image/png": "[encoded data removed]"
          },
          "metadata": {}
        }
      ]
    },
    {
      "cell_type": "markdown",
      "source": [
        "## P値の計算"
      ],
      "metadata": {
        "id": "0hk3F-lT4h8x"
      }
    },
    {
      "cell_type": "code",
      "source": [
        "# 平均クラスタ係数に対するP値（両側）\n",
        "2 * stats.norm.cdf(-abs(z_cc))"
      ],
      "metadata": {
        "colab": {
          "base_uri": "https://localhost:8080/"
        },
        "id": "bNGtuNRh4Wuq",
        "outputId": "a4fd2b47-8ff9-4fe3-ef06-7e6dffd9b62b"
      },
      "execution_count": 15,
      "outputs": [
        {
          "output_type": "execute_result",
          "data": {
            "text/plain": [
              "8.146306909685583e-28"
            ]
          },
          "metadata": {},
          "execution_count": 15
        }
      ]
    },
    {
      "cell_type": "code",
      "source": [
        "# 平均最短経路に対するP値（両側）\n",
        "2 * stats.norm.cdf(-abs(z_apl))"
      ],
      "metadata": {
        "colab": {
          "base_uri": "https://localhost:8080/"
        },
        "id": "yUPBoJOd4cXx",
        "outputId": "ff85521e-c2a6-4bea-daaa-f33641489e5f"
      },
      "execution_count": 16,
      "outputs": [
        {
          "output_type": "execute_result",
          "data": {
            "text/plain": [
              "0.0"
            ]
          },
          "metadata": {},
          "execution_count": 16
        }
      ]
    },
    {
      "cell_type": "markdown",
      "source": [
        "## 経験的P値の計算"
      ],
      "metadata": {
        "id": "VylJin9u4nBz"
      }
    },
    {
      "cell_type": "code",
      "source": [
        "# 平均クラスタ係数に対するP値（上側）\n",
        "np.sum(cc_null > cc_real) / len(cc_null)"
      ],
      "metadata": {
        "colab": {
          "base_uri": "https://localhost:8080/"
        },
        "id": "VqCGIw-G4rlJ",
        "outputId": "3a268fc3-ce3d-4030-aa87-7631e23a43d8"
      },
      "execution_count": 17,
      "outputs": [
        {
          "output_type": "execute_result",
          "data": {
            "text/plain": [
              "0.0"
            ]
          },
          "metadata": {},
          "execution_count": 17
        }
      ]
    },
    {
      "cell_type": "code",
      "source": [
        "# 平均最短経路に対するP値（上側）\n",
        "np.sum(apl_null > apl_real) / len(apl_null)"
      ],
      "metadata": {
        "colab": {
          "base_uri": "https://localhost:8080/"
        },
        "id": "Pt9Y5AGh40d9",
        "outputId": "0a8ddb0e-06ee-40fd-ff1c-f1cfa0f279cc"
      },
      "execution_count": 18,
      "outputs": [
        {
          "output_type": "execute_result",
          "data": {
            "text/plain": [
              "0.0"
            ]
          },
          "metadata": {},
          "execution_count": 18
        }
      ]
    },
    {
      "cell_type": "markdown",
      "source": [
        "## スモールワールド性指標\n",
        "Humphries MD, Gurney K (2008) Network ‘Small-World-Ness’: A Quantitative Method for Determining Canonical Network Equivalence. PLoS ONE 3(4): e0002051. [https://doi.org/10.1371/journal.pone.0002051](https://doi.org/10.1371/journal.pone.0002051)"
      ],
      "metadata": {
        "id": "NofStzs_5AAP"
      }
    },
    {
      "cell_type": "code",
      "source": [
        "cc_real * np.mean(apl_null) / apl_real / np.mean(cc_null)"
      ],
      "metadata": {
        "colab": {
          "base_uri": "https://localhost:8080/"
        },
        "id": "bzyaM56d4_qO",
        "outputId": "09d5d6f8-ca0e-43a1-a320-7e129e82b568"
      },
      "execution_count": 19,
      "outputs": [
        {
          "output_type": "execute_result",
          "data": {
            "text/plain": [
              "1.3644288728330065"
            ]
          },
          "metadata": {},
          "execution_count": 19
        }
      ]
    }
  ]
}