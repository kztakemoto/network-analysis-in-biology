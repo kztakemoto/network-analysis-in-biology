{
  "nbformat": 4,
  "nbformat_minor": 0,
  "metadata": {
    "colab": {
      "provenance": []
    },
    "kernelspec": {
      "name": "python3",
      "display_name": "Python 3"
    },
    "language_info": {
      "name": "python"
    }
  },
  "cells": [
    {
      "cell_type": "markdown",
      "source": [
        "# 基本的なネットワーク指標の計算\n",
        "\n",
        "networkxの読み込み"
      ],
      "metadata": {
        "id": "OhwjBES3Yc4x"
      }
    },
    {
      "cell_type": "code",
      "execution_count": 1,
      "metadata": {
        "id": "ouJqxaQOYbjg"
      },
      "outputs": [],
      "source": [
        "import networkx as nx"
      ]
    },
    {
      "cell_type": "markdown",
      "source": [
        "その他ライブラリ"
      ],
      "metadata": {
        "id": "vpoAKyxsZxNs"
      }
    },
    {
      "cell_type": "code",
      "source": [
        "import pandas as pd\n",
        "import matplotlib.pyplot as plt\n",
        "import random\n",
        "import numpy as np\n",
        "from itertools import permutations"
      ],
      "metadata": {
        "id": "nCcbEfDAZyy9"
      },
      "execution_count": 2,
      "outputs": []
    },
    {
      "cell_type": "markdown",
      "source": [
        "## 大腸菌の転写制御因子ネットワークの読み込み"
      ],
      "metadata": {
        "id": "P-o4VxEpZjGq"
      }
    },
    {
      "cell_type": "code",
      "source": [
        "df = pd.read_csv(\"../data/ecoli_regDB5.txt\", sep='\\s+', header=None)\n",
        "\n",
        "# グラフオブジェクトの作成\n",
        "g_dir = nx.from_pandas_edgelist(df,\n",
        "                           source=df.columns[0],  # 最初の列をsourceとして使用\n",
        "                           target=df.columns[1],  # 2番目の列をtargetとして使用\n",
        "                           create_using=nx.DiGraph())  # 有向グラフとして作成\n",
        "\n",
        "# 多重エッジと自己ループの削除（必須でない）\n",
        "g_dir = nx.DiGraph(g_dir)  # 多重エッジを自動的に削除\n",
        "g_dir.remove_edges_from(nx.selfloop_edges(g_dir))  # 自己ループを削除\n",
        "\n",
        "# 仮想的な重みを追加する\n",
        "weights = np.random.lognormal(mean=0, sigma=1, size=g_dir.number_of_edges())\n",
        "nx.set_edge_attributes(g_dir, dict(zip(g_dir.edges(), weights)), 'weight')\n",
        "\n",
        "# 最大連結成分の取得\n",
        "g_dir = g_dir.subgraph(max(nx.weakly_connected_components(g_dir), key=len))\n",
        "\n",
        "# 無向ネットワークのオブジェクトの作成\n",
        "g = nx.Graph(g_dir)"
      ],
      "metadata": {
        "id": "U4rOAhilYpSF"
      },
      "execution_count": 3,
      "outputs": []
    },
    {
      "cell_type": "markdown",
      "source": [
        "## ノード数"
      ],
      "metadata": {
        "id": "A8XuRw0RZpww"
      }
    },
    {
      "cell_type": "code",
      "source": [
        "# ノード数の取得\n",
        "nb_nodes = g.number_of_nodes()\n",
        "# または\n",
        "nb_nodes = len(g)\n",
        "\n",
        "print(f\"ノード数: {nb_nodes}\")"
      ],
      "metadata": {
        "colab": {
          "base_uri": "https://localhost:8080/"
        },
        "id": "ffrhwsxAZpRj",
        "outputId": "29a71b31-3148-4f5d-8e8d-7dd8e2693b8a"
      },
      "execution_count": 4,
      "outputs": [
        {
          "output_type": "stream",
          "name": "stdout",
          "text": [
            "ノード数: 1202\n"
          ]
        }
      ]
    },
    {
      "cell_type": "markdown",
      "source": [
        "## エッジ数"
      ],
      "metadata": {
        "id": "p-fJ0B4_aDtB"
      }
    },
    {
      "cell_type": "code",
      "source": [
        "# エッジ数の取得\n",
        "nb_edges = g.number_of_edges()\n",
        "# または\n",
        "nb_edges = len(g.edges)\n",
        "# または\n",
        "nb_edges = g.size()\n",
        "\n",
        "print(f\"エッジ数: {nb_edges}\")"
      ],
      "metadata": {
        "colab": {
          "base_uri": "https://localhost:8080/"
        },
        "id": "AnsIRr-5aGiO",
        "outputId": "e6270dc1-a5d5-4c92-9b9d-56c1de62c426"
      },
      "execution_count": 5,
      "outputs": [
        {
          "output_type": "stream",
          "name": "stdout",
          "text": [
            "エッジ数: 2801\n"
          ]
        }
      ]
    },
    {
      "cell_type": "markdown",
      "source": [
        "## 次数（無向ネットワーク）"
      ],
      "metadata": {
        "id": "mVxCYAaQauYb"
      }
    },
    {
      "cell_type": "code",
      "source": [
        "g.degree()"
      ],
      "metadata": {
        "colab": {
          "base_uri": "https://localhost:8080/"
        },
        "id": "VIAo53P1atzQ",
        "outputId": "de69e3c1-3578-4500-ce0d-738f5bebad1a"
      },
      "execution_count": 6,
      "outputs": [
        {
          "output_type": "execute_result",
          "data": {
            "text/plain": [
              "DegreeView({'acrR': 2, 'acrA': 4, 'acrB': 4, 'ada': 3, 'aidB': 2, 'alkA': 1, 'alkB': 1, 'adiY': 1, 'adiA': 4, 'agaR': 10, 'agaA': 2, 'agaB': 1, 'agaC': 1, 'agaD': 1, 'agaI': 1, 'agaS': 1, 'agaV': 2, 'agaW': 2, 'agaY': 1, 'agaZ': 2, 'alpA': 1, 'slp': 2, 'appY': 9, 'appA': 2, 'appB': 2, 'appC': 2, 'hyaA': 4, 'hyaB': 4, 'hyaC': 4, 'hyaD': 4, 'hyaE': 4, 'hyaF': 4, 'araC': 9, 'araA': 2, 'araB': 2, 'araD': 2, 'araE': 2, 'araF': 2, 'araG': 2, 'araH': 2, 'araJ': 2, 'arcA': 142, 'aceA': 6, 'aceB': 6, 'aceE': 4, 'aceF': 4, 'aceK': 6, 'ackA': 2, 'acnA': 4, 'acnB': 4, 'aldA': 3, 'betA': 2, 'betB': 2, 'betI': 4, 'betT': 2, 'cadA': 5, 'cadB': 5, 'caiA': 6, 'caiB': 6, 'caiC': 6, 'caiD': 6, 'caiE': 6, 'caiT': 6, 'cydA': 4, 'cydB': 4, 'cydC': 3, 'cydD': 3, 'cyoA': 5, 'cyoB': 5, 'cyoC': 5, 'cyoD': 5, 'cyoE': 5, 'dctA': 3, 'dcuC': 2, 'fadA': 2, 'fadB': 2, 'fnr': 197, 'focA': 6, 'fumA': 3, 'fumB': 7, 'fumC': 5, 'gadA': 7, 'gadX': 20, 'gatA': 4, 'gatB': 4, 'gatC': 4, 'gatD': 4, 'gatY': 4, 'gatZ': 4, 'glcA': 4, 'glcB': 4, 'glcD': 4, 'glcE': 4, 'glcF': 4, 'glcG': 4, 'glpA': 6, 'glpB': 6, 'glpC': 6, 'glpD': 3, 'gltA': 4, 'hcaR': 6, 'hemA': 4, 'hybA': 2, 'hybB': 2, 'hybC': 2, 'hybD': 2, 'hybE': 2, 'hybF': 2, 'hybG': 2, 'hybO': 2, 'icd': 2, 'lctD': 3, 'lctP': 3, 'lctR': 4, 'lpdA': 5, 'mdh': 4, 'moeA': 3, 'moeB': 3, 'ndh': 5, 'nuoA': 6, 'nuoB': 6, 'nuoC': 6, 'nuoE': 6, 'nuoF': 6, 'nuoG': 6, 'nuoH': 6, 'nuoI': 6, 'nuoJ': 6, 'nuoK': 6, 'nuoL': 6, 'nuoM': 6, 'nuoN': 6, 'oppA': 2, 'oppB': 2, 'oppC': 2, 'oppD': 2, 'oppF': 2, 'pflB': 6, 'ptsG': 4, 'rhaT': 3, 'rplB': 2, 'rplC': 2, 'rplD': 2, 'rplP': 2, 'rplV': 2, 'rplW': 2, 'rpmC': 2, 'rpsC': 2, 'rpsJ': 2, 'rpsQ': 2, 'rpsS': 2, 'rutA': 3, 'rutB': 3, 'rutC': 3, 'rutD': 3, 'rutE': 3, 'rutF': 3, 'rutG': 3, 'sdhA': 4, 'sdhB': 4, 'sdhC': 4, 'sdhD': 4, 'sodA': 9, 'sucA': 6, 'sucB': 6, 'sucC': 6, 'sucD': 6, 'tpx': 2, 'treB': 3, 'treC': 3, 'ubiA': 5, 'ubiC': 5, 'xylR': 8, 'ydeA': 1, 'yfiD': 4, 'argP': 6, 'dnaA': 10, 'dnaN': 2, 'nrdA': 4, 'nrdB': 4, 'recF': 2, 'argR': 23, 'argB': 1, 'argC': 1, 'argD': 2, 'argE': 1, 'argF': 1, 'argG': 2, 'argH': 1, 'argI': 1, 'astA': 2, 'astB': 2, 'astC': 2, 'astD': 2, 'astE': 2, 'carA': 3, 'carB': 3, 'infB': 3, 'metY': 3, 'nusA': 3, 'pnp': 3, 'rbfA': 3, 'rpsO': 3, 'truB': 3, 'yhbC': 3, 'asnC': 2, 'asnA': 1, 'baeR': 9, 'acrD': 3, 'baeS': 2, 'mdtA': 2, 'mdtB': 2, 'mdtC': 2, 'mdtD': 2, 'spy': 1, 'ycaC': 1, 'cadC': 2, 'caiF': 14, 'fixA': 2, 'fixB': 2, 'fixC': 2, 'fixX': 2, 'cbl': 11, 'ssuA': 3, 'ssuB': 3, 'ssuC': 3, 'ssuD': 3, 'ssuE': 3, 'tauA': 2, 'tauB': 2, 'tauC': 2, 'tauD': 2, 'chbR': 7, 'chbA': 3, 'chbB': 3, 'chbC': 3, 'chbF': 3, 'chbG': 3, 'cpxR': 41, 'bacA': 1, 'cheA': 1, 'cheW': 1, 'cpxA': 1, 'cpxP': 1, 'csgA': 2, 'csgB': 2, 'csgD': 10, 'csgE': 6, 'csgF': 6, 'csgG': 6, 'dsbA': 1, 'dsbC': 1, 'ecfI': 1, 'fabZ': 2, 'htrA': 2, 'lpxA': 2, 'lpxD': 2, 'motA': 1, 'motB': 1, 'ompC': 6, 'ompF': 8, 'ppiA': 3, 'ppiD': 1, 'psd': 1, 'rdoA': 1, 'rpoE': 1, 'rseA': 1, 'rseB': 1, 'rseC': 1, 'skp': 2, 'smpA': 1, 'tsr': 1, 'ung': 1, 'crp': 395, 'acs': 4, 'agp': 1, 'aldB': 2, 'ansB': 2, 'aspA': 3, 'bglB': 3, 'bglF': 3, 'bglG': 3, 'cdd': 2, 'cirA': 2, 'cpdB': 1, 'crr': 3, 'csiD': 4, 'csiE': 2, 'cstA': 1, 'cyaA': 1, 'cysG': 9, 'cytR': 12, 'dadA': 2, 'dadX': 2, 'dcuA': 3, 'dcuB': 4, 'deoA': 4, 'deoB': 4, 'deoC': 4, 'deoD': 4, 'dsdA': 2, 'dsdX': 2, 'dusB': 4, 'ebgA': 2, 'ebgC': 2, 'entA': 2, 'entB': 2, 'entC': 2, 'entD': 2, 'entE': 2, 'envZ': 3, 'epd': 2, 'exuT': 2, 'fadD': 2, 'fadL': 4, 'fbaA': 2, 'fecA': 3, 'fecB': 3, 'fecC': 3, 'fecD': 3, 'fecE': 3, 'fepA': 2, 'fis': 161, 'fiu': 2, 'flhC': 89, 'flhD': 89, 'focB': 4, 'fucA': 2, 'fucI': 2, 'fucK': 2, 'fucO': 2, 'fucP': 2, 'fucR': 7, 'fucU': 2, 'fur': 76, 'gabD': 5, 'gabP': 5, 'gabT': 5, 'gadB': 5, 'gadC': 5, 'galE': 6, 'galK': 6, 'galM': 6, 'galP': 3, 'galS': 10, 'galT': 6, 'gapA': 1, 'gcd': 3, 'glcC': 7, 'glgA': 1, 'glgC': 1, 'glgP': 1, 'glgS': 1, 'glnA': 2, 'glnG': 44, 'glnL': 2, 'glpE': 1, 'glpF': 2, 'glpG': 1, 'glpK': 2, 'glpQ': 5, 'glpR': 10, 'glpT': 5, 'glpX': 2, 'gntK': 3, 'gntP': 2, 'gntT': 2, 'gntU': 3, 'gntX': 2, 'gntY': 2, 'grpE': 1, 'guaA': 4, 'guaB': 4, 'gutM': 7, 'gutQ': 3, 'gyrA': 3, 'hlyE': 4, 'hpt': 3, 'hupA': 9, 'hupB': 9, 'hyfA': 4, 'hyfB': 4, 'hyfC': 4, 'hyfD': 4, 'hyfE': 4, 'hyfF': 4, 'hyfG': 4, 'hyfH': 4, 'hyfI': 4, 'hyfJ': 4, 'hyfR': 14, 'idnD': 3, 'idnK': 3, 'idnO': 3, 'idnR': 8, 'idnT': 3, 'ilvB': 1, 'ilvN': 1, 'ivbL': 1, 'lacA': 3, 'lacY': 3, 'lacZ': 3, 'lamB': 2, 'lsrA': 2, 'lsrB': 2, 'lsrC': 2, 'lsrD': 2, 'lsrF': 2, 'lsrG': 2, 'lyxK': 4, 'malE': 2, 'malF': 2, 'malG': 2, 'malI': 3, 'malK': 2, 'malM': 2, 'malP': 2, 'malQ': 2, 'malS': 3, 'malT': 13, 'malX': 2, 'malY': 2, 'manX': 3, 'manY': 3, 'manZ': 3, 'marA': 24, 'marB': 6, 'marR': 6, 'melA': 2, 'melB': 2, 'melR': 3, 'metK': 2, 'mglA': 6, 'mglB': 5, 'mglC': 6, 'mhpA': 2, 'mhpB': 2, 'mhpC': 2, 'mhpD': 2, 'mhpE': 2, 'mhpF': 2, 'mlc': 9, 'modA': 2, 'modB': 2, 'modC': 2, 'mpl': 1, 'mtlA': 4, 'mtlD': 4, 'mtlR': 5, 'nagA': 3, 'nagB': 2, 'nagC': 17, 'nagD': 2, 'nagE': 2, 'nanA': 2, 'nanC': 3, 'nanE': 2, 'nanK': 2, 'nanT': 2, 'nirB': 9, 'nirC': 9, 'nirD': 9, 'nmpC': 4, 'nupC': 3, 'nupG': 3, 'ompA': 1, 'ompR': 19, 'osmY': 4, 'oxyR': 16, 'paaA': 4, 'paaB': 4, 'paaC': 4, 'paaD': 4, 'paaE': 4, 'paaF': 4, 'paaG': 4, 'paaH': 4, 'paaI': 4, 'paaJ': 4, 'paaK': 4, 'paaZ': 4, 'pdhR': 9, 'pgk': 2, 'pncB': 2, 'proP': 2, 'prpB': 2, 'prpC': 2, 'prpD': 2, 'prpE': 2, 'prpR': 5, 'psiE': 2, 'ptsH': 3, 'ptsI': 3, 'putP': 1, 'rbsA': 2, 'rbsB': 2, 'rbsC': 2, 'rbsD': 2, 'rbsK': 2, 'rbsR': 6, 'rhaA': 2, 'rhaB': 2, 'rhaD': 2, 'rhaR': 2, 'rhaS': 6, 'rpoH': 3, 'rpoS': 2, 'serA': 2, 'sgbE': 4, 'sgbH': 4, 'sgbU': 4, 'sodB': 5, 'sohB': 1, 'speC': 1, 'spf': 1, 'srlA': 3, 'srlB': 3, 'srlD': 3, 'srlE': 3, 'srlR': 7, 'tdcA': 10, 'tdcB': 5, 'tdcC': 5, 'tdcD': 5, 'tdcE': 5, 'tdcF': 5, 'tdcG': 5, 'tnaA': 2, 'tnaB': 2, 'tnaC': 2, 'trxA': 1, 'tsx': 3, 'ubiG': 1, 'udp': 2, 'ugpA': 2, 'ugpB': 2, 'ugpC': 2, 'ugpE': 2, 'ugpQ': 2, 'uhpT': 2, 'uidA': 3, 'uidB': 3, 'ulaA': 4, 'ulaB': 4, 'ulaC': 4, 'ulaD': 4, 'ulaE': 4, 'ulaF': 4, 'uxaA': 2, 'uxaB': 2, 'uxaC': 2, 'uxuA': 3, 'uxuB': 3, 'uxuR': 7, 'xseA': 1, 'xylA': 2, 'xylB': 2, 'xylF': 3, 'xylG': 3, 'xylH': 3, 'ybdB': 2, 'ygaF': 4, 'yhcH': 2, 'yhfA': 1, 'yiaJ': 12, 'yiaK': 4, 'yiaL': 4, 'yiaM': 4, 'yiaN': 4, 'yiaO': 4, 'yjcG': 4, 'yjcH': 4, 'zraR': 2, 'zraS': 2, 'csiR': 5, 'cspA': 3, 'hns': 91, 'cspE': 1, 'cueR': 7, 'copA': 1, 'cueO': 1, 'moaA': 3, 'moaB': 3, 'moaC': 3, 'moaD': 3, 'moaE': 3, 'cysB': 22, 'cysA': 1, 'cysC': 1, 'cysD': 1, 'cysH': 1, 'cysI': 1, 'cysJ': 1, 'cysK': 1, 'cysM': 1, 'cysN': 1, 'cysP': 1, 'cysU': 1, 'cysW': 1, 'dcuR': 9, 'frdA': 3, 'frdB': 3, 'frdC': 3, 'frdD': 3, 'deoR': 6, 'polA': 1, 'dsdC': 2, 'ebgR': 2, 'emrR': 3, 'emrA': 2, 'emrB': 2, 'envY': 7, 'evgA': 5, 'emrK': 2, 'emrY': 2, 'evgS': 1, 'gadE': 29, 'exuR': 7, 'fabR': 2, 'fabA': 2, 'fabB': 2, 'fadR': 10, 'fadI': 1, 'fadJ': 1, 'iclR': 4, 'uspA': 1, 'fecI': 7, 'fecR': 2, 'fhlA': 32, 'fdhF': 4, 'hycA': 4, 'hycB': 4, 'hycC': 4, 'hycD': 4, 'hycE': 4, 'hycF': 4, 'hycG': 4, 'hycH': 4, 'hycI': 4, 'hydN': 3, 'hypA': 3, 'hypB': 4, 'hypC': 4, 'hypD': 4, 'hypE': 4, 'hypF': 3, 'adhE': 4, 'alaT': 1, 'alaU': 2, 'alaV': 2, 'alaW': 1, 'alaX': 1, 'argU': 1, 'argW': 1, 'argX': 1, 'aspV': 1, 'glnQ': 4, 'glnU': 1, 'glnV': 1, 'glnW': 1, 'glnX': 1, 'gltT': 2, 'gltU': 2, 'gltV': 1, 'gltW': 2, 'glyT': 1, 'glyU': 1, 'gyrB': 1, 'hisR': 1, 'ileT': 1, 'ileU': 2, 'ileV': 2, 'ksgA': 1, 'leuP': 1, 'leuQ': 1, 'leuT': 1, 'leuV': 1, 'leuW': 1, 'leuX': 1, 'lysT': 1, 'lysV': 1, 'lysW': 1, 'mazE': 1, 'mazF': 1, 'metT': 1, 'metU': 1, 'nrfA': 8, 'nrfB': 8, 'nrfC': 8, 'nrfD': 8, 'nrfE': 8, 'nrfF': 8, 'nrfG': 8, 'pdxA': 1, 'pheU': 1, 'pheV': 1, 'proK': 1, 'proL': 1, 'proM': 1, 'queA': 1, 'rnpB': 2, 'rrfA': 1, 'rrfB': 2, 'rrfC': 2, 'rrfD': 2, 'rrfE': 1, 'rrfF': 2, 'rrfG': 2, 'rrfH': 2, 'rrlA': 1, 'rrlB': 2, 'rrlC': 2, 'rrlD': 2, 'rrlE': 1, 'rrlG': 2, 'rrlH': 2, 'rrnA': 1, 'rrnB': 2, 'rrnC': 2, 'rrnD': 2, 'rrnE': 1, 'rrnG': 2, 'rrnH': 2, 'serT': 1, 'serX': 1, 'sra': 6, 'thrT': 1, 'thrU': 1, 'thrV': 2, 'thrW': 1, 'topA': 1, 'tpr': 1, 'trmA': 1, 'tyrT': 1, 'tyrU': 1, 'tyrV': 1, 'valT': 1, 'valU': 1, 'valX': 1, 'valY': 1, 'ygjG': 4, 'ccmA': 6, 'ccmB': 6, 'ccmC': 6, 'ccmD': 6, 'ccmE': 6, 'ccmF': 6, 'ccmG': 6, 'ccmH': 6, 'flgA': 2, 'flgB': 2, 'flgC': 2, 'flgD': 2, 'flgE': 2, 'flgF': 2, 'flgG': 2, 'flgH': 2, 'flgI': 2, 'flgJ': 2, 'flgM': 2, 'flgN': 2, 'flhA': 2, 'flhB': 2, 'flhE': 2, 'fliA': 3, 'fliD': 2, 'fliE': 2, 'fliF': 2, 'fliG': 2, 'fliH': 2, 'fliI': 2, 'fliJ': 2, 'fliK': 2, 'fliL': 2, 'fliM': 2, 'fliN': 2, 'fliO': 2, 'fliP': 2, 'fliQ': 2, 'fliR': 2, 'fliS': 2, 'fliT': 2, 'fliY': 3, 'fliZ': 3, 'gltI': 2, 'gltJ': 2, 'gltK': 2, 'gltL': 2, 'mreB': 2, 'mreC': 2, 'mreD': 2, 'napA': 6, 'napB': 6, 'napC': 6, 'napD': 6, 'napF': 6, 'napG': 6, 'napH': 6, 'rng': 2, 'ycgR': 2, 'yecR': 2, 'yhdE': 2, 'yhjH': 2, 'acrE': 1, 'acrF': 1, 'argK': 1, 'bcsB': 1, 'bcsZ': 1, 'dcuS': 2, 'dmsA': 5, 'dmsB': 5, 'dmsC': 5, 'fdnG': 3, 'fdnH': 3, 'fdnI': 3, 'gapC_1': 1, 'gapC_2': 1, 'gcvH': 5, 'gcvP': 5, 'gcvT': 5, 'hcp': 3, 'hcr': 3, 'hmp': 2, 'narG': 4, 'narH': 4, 'narI': 4, 'narJ': 4, 'narK': 4, 'narL': 100, 'narX': 2, 'nikA': 3, 'nikB': 3, 'nikC': 3, 'nikD': 3, 'nikE': 3, 'nikR': 7, 'norV': 6, 'norW': 6, 'nrdD': 1, 'nrdG': 1, 'phoU': 4, 'pstA': 4, 'pstB': 4, 'pstC': 4, 'pstS': 4, 'purM': 2, 'purN': 2, 'rimM': 1, 'rplM': 1, 'rplS': 1, 'rplT': 1, 'rpsI': 1, 'rpsP': 1, 'sbm': 1, 'trmD': 1, 'xdhA': 1, 'yeiL': 4, 'ygfG': 1, 'ygfH': 1, 'fruR': 32, 'eda': 4, 'edd': 2, 'fruA': 1, 'fruB': 1, 'fruK': 1, 'glk': 1, 'pckA': 1, 'pfkA': 1, 'ppsA': 1, 'pykF': 1, 'entF': 1, 'entS': 1, 'exbB': 1, 'exbD': 1, 'fepB': 1, 'fepC': 1, 'fepD': 1, 'fepE': 1, 'fepG': 1, 'fes': 1, 'fhuA': 1, 'fhuB': 1, 'fhuC': 1, 'fhuD': 1, 'fhuE': 1, 'fhuF': 1, 'metH': 2, 'metJ': 14, 'mntH': 2, 'nohA': 1, 'nrdE': 1, 'nrdF': 1, 'nrdH': 1, 'nrdI': 1, 'pgmA': 1, 'purR': 28, 'sraI': 1, 'sufA': 4, 'sufB': 4, 'sufC': 4, 'sufD': 4, 'sufE': 4, 'sufS': 4, 'tonB': 1, 'ybdZ': 1, 'ygaC': 1, 'yhhY': 1, 'yodA': 2, 'fliC': 2, 'gltB': 3, 'gltD': 3, 'gltF': 3, 'gnd': 1, 'hdeA': 5, 'hdeB': 5, 'hdeD': 3, 'lrp': 58, 'purA': 2, 'rcsA': 20, 'tufB': 1, 'gadW': 4, 'amtB': 2, 'asnB': 1, 'glnK': 2, 'lon': 1, 'ybaS': 1, 'galR': 9, 'gatR_1': 6, 'gatR_2': 6, 'gcvA': 4, 'gcvB': 2, 'gcvR': 4, 'argT': 1, 'ddpA': 1, 'ddpB': 1, 'ddpC': 1, 'ddpD': 1, 'ddpF': 1, 'ddpX': 1, 'glnH': 3, 'glnP': 3, 'hisJ': 1, 'hisM': 1, 'hisP': 1, 'hisQ': 1, 'nac': 12, 'potF': 1, 'potG': 1, 'potH': 1, 'potI': 1, 'yeaG': 1, 'yeaH': 1, 'yhdW': 1, 'yhdX': 1, 'yhdY': 1, 'yhdZ': 1, 'gntR': 12, 'hcaB': 1, 'hcaC': 1, 'hcaD': 1, 'hcaE': 1, 'hcaF': 1, 'hdfR': 2, 'bolA': 2, 'chiA': 1, 'cspD': 1, 'fimA': 4, 'fimC': 4, 'fimD': 4, 'fimE': 2, 'fimF': 4, 'fimG': 4, 'fimH': 4, 'fimI': 4, 'micF': 10, 'mukB': 1, 'mukE': 1, 'mukF': 1, 'nhaA': 2, 'osmC': 5, 'proV': 1, 'proW': 1, 'proX': 1, 'smtA': 1, 'stpA': 2, 'pgm': 2, 'seqA': 2, 'ihfA': 188, 'amiA': 2, 'dppA': 2, 'dppB': 2, 'dppC': 2, 'dppD': 2, 'dppF': 2, 'dps': 3, 'ecpD': 2, 'hemF': 2, 'htrE': 2, 'ibpB': 2, 'ihfB': 188, 'ilvA': 3, 'ilvD': 3, 'ilvE': 3, 'ilvG_1': 3, 'ilvG_2': 3, 'ilvL': 3, 'ilvM': 3, 'mtr': 4, 'osmE': 2, 'pspA': 3, 'pspB': 3, 'pspC': 3, 'pspD': 3, 'pspE': 3, 'pspG': 3, 'rtcA': 3, 'rtcB': 3, 'tyrP': 3, 'ulaG': 3, 'kdgR': 1, 'lacI': 3, 'lrhA': 2, 'aroA': 1, 'ilvH': 1, 'ilvI': 1, 'kbl': 1, 'livF': 1, 'livG': 1, 'livH': 1, 'livJ': 1, 'livK': 1, 'livM': 1, 'lysU': 1, 'sdaA': 1, 'serC': 1, 'tdh': 1, 'lsrR': 6, 'malZ': 1, 'fpr': 2, 'inaA': 3, 'nfnB': 1, 'nfo': 3, 'poxB': 2, 'pqiA': 2, 'pqiB': 2, 'putA': 1, 'rob': 11, 'zwf': 3, 'ahpC': 2, 'ahpF': 2, 'metA': 2, 'metB': 2, 'metC': 1, 'metE': 2, 'metF': 1, 'metI': 1, 'metL': 2, 'metN': 1, 'metQ': 1, 'metR': 5, 'glyA': 2, 'mhpR': 6, 'mntR': 1, 'modE': 32, 'codA': 2, 'codB': 2, 'gdhA': 1, 'nadR': 2, 'nadB': 1, 'glmS': 1, 'glmU': 1, 'nanR': 6, 'torA': 2, 'torC': 2, 'torD': 2, 'narP': 40, 'nhaR': 2, 'norR': 2, 'nsrR': 5, 'tehA': 1, 'tehB': 1, 'ygbA': 1, 'ytfE': 1, 'flu': 1, 'gor': 1, 'grxA': 1, 'katG': 1, 'trxC': 1, 'paaX': 12, 'phoB': 34, 'asr': 1, 'b4103': 1, 'phnC': 1, 'phnD': 1, 'phnE': 1, 'phnF': 1, 'phnG': 1, 'phnH': 1, 'phnI': 1, 'phnJ': 1, 'phnK': 1, 'phnL': 1, 'phnM': 1, 'phnN': 1, 'phnO': 1, 'phnP': 1, 'phoA': 1, 'phoE': 1, 'phoH': 1, 'phoR': 1, 'psiF': 1, 'phoP': 30, 'borD': 1, 'dcuD': 1, 'hemL': 1, 'mgrB': 1, 'mgtA': 1, 'pagP': 1, 'phoQ': 1, 'purD': 2, 'purH': 2, 'rstA': 1, 'rstB': 1, 'slyB': 1, 'treR': 3, 'ybjG': 1, 'yrbL': 1, 'pspF': 6, 'cvpA': 1, 'glnB': 1, 'hflD': 1, 'prsA': 1, 'purB': 1, 'purC': 1, 'purE': 1, 'purF': 1, 'purK': 1, 'purL': 1, 'pyrC': 1, 'pyrD': 1, 'speA': 1, 'speB': 1, 'ubiX': 1, 'qseB': 3, 'qseC': 1, 'bdm': 2, 'ftsA': 3, 'ftsZ': 3, 'osmB': 2, 'wcaA': 2, 'wcaB': 2, 'wza': 2, 'wzb': 2, 'wzc': 2, 'rcsB': 18, 'ybiS': 1, 'yfhD': 1, 'rtcR': 2, 'sdaR': 9, 'garD': 1, 'garK': 1, 'garL': 1, 'garP': 1, 'garR': 1, 'gudD': 1, 'gudP': 1, 'gudX': 1, 'sdiA': 3, 'ftsQ': 1, 'slyA': 1, 'soxR': 2, 'soxS': 25, 'fldA': 1, 'fldB': 1, 'nfsA': 1, 'ribA': 1, 'rimK': 1, 'ybjC': 1, 'ybjN': 1, 'tdcR': 7, 'torR': 10, 'trpR': 11, 'aroH': 1, 'aroL': 2, 'aroM': 2, 'trpA': 1, 'trpB': 1, 'trpC': 1, 'trpD': 1, 'trpE': 1, 'trpL': 1, 'yaiA': 2, 'tyrR': 10, 'aroF': 1, 'aroG': 1, 'aroP': 1, 'tyrA': 1, 'tyrB': 1, 'uhpA': 1, 'uidR': 2, 'ulaR': 7, 'ydeO': 1})"
            ]
          },
          "metadata": {},
          "execution_count": 6
        }
      ]
    },
    {
      "cell_type": "markdown",
      "source": [
        "## 入次数"
      ],
      "metadata": {
        "id": "rAPoJqxUa2eK"
      }
    },
    {
      "cell_type": "code",
      "source": [
        "deg_in = g_dir.in_degree()"
      ],
      "metadata": {
        "id": "7OCnkkyVbK8F"
      },
      "execution_count": 7,
      "outputs": []
    },
    {
      "cell_type": "markdown",
      "source": [
        "## 出次数"
      ],
      "metadata": {
        "id": "-8aEvmsRbWEI"
      }
    },
    {
      "cell_type": "code",
      "source": [
        "deg_out = g_dir.out_degree()"
      ],
      "metadata": {
        "id": "0_HD00M6bWd_"
      },
      "execution_count": 8,
      "outputs": []
    },
    {
      "cell_type": "markdown",
      "source": [
        "有向ネットワークの握手の補題［式(2.6)］が成り立つことを確認する。"
      ],
      "metadata": {
        "id": "qsCnFN-Fbkd9"
      }
    },
    {
      "cell_type": "code",
      "source": [
        "sum(dict(deg_in).values())"
      ],
      "metadata": {
        "colab": {
          "base_uri": "https://localhost:8080/"
        },
        "id": "zgKEHAy0bokq",
        "outputId": "0a62f211-f495-4511-a522-64347de6d81a"
      },
      "execution_count": 9,
      "outputs": [
        {
          "output_type": "execute_result",
          "data": {
            "text/plain": [
              "2807"
            ]
          },
          "metadata": {},
          "execution_count": 9
        }
      ]
    },
    {
      "cell_type": "code",
      "source": [
        "sum(dict(deg_out).values())"
      ],
      "metadata": {
        "colab": {
          "base_uri": "https://localhost:8080/"
        },
        "id": "FoyWX8x3eNBb",
        "outputId": "4c3275d1-0a05-4aa9-93df-8c21e2a62de2"
      },
      "execution_count": 10,
      "outputs": [
        {
          "output_type": "execute_result",
          "data": {
            "text/plain": [
              "2807"
            ]
          },
          "metadata": {},
          "execution_count": 10
        }
      ]
    },
    {
      "cell_type": "code",
      "source": [
        "g_dir.number_of_edges()"
      ],
      "metadata": {
        "colab": {
          "base_uri": "https://localhost:8080/"
        },
        "id": "P_hnDWa5ePde",
        "outputId": "01ee4dce-8281-47a2-a918-7b211eb1c91a"
      },
      "execution_count": 11,
      "outputs": [
        {
          "output_type": "execute_result",
          "data": {
            "text/plain": [
              "2807"
            ]
          },
          "metadata": {},
          "execution_count": 11
        }
      ]
    },
    {
      "cell_type": "markdown",
      "source": [
        "## 平均次数\n",
        "\n",
        "### 無向ネットワークの場合"
      ],
      "metadata": {
        "id": "4YQNUqi9eU96"
      }
    },
    {
      "cell_type": "code",
      "source": [
        "np.mean([d for _, d in g.degree()])"
      ],
      "metadata": {
        "colab": {
          "base_uri": "https://localhost:8080/"
        },
        "id": "AvetpPMNeWcu",
        "outputId": "eb31e8ae-7c09-4d34-ec2d-4d2d9208d121"
      },
      "execution_count": 12,
      "outputs": [
        {
          "output_type": "execute_result",
          "data": {
            "text/plain": [
              "4.6605657237936775"
            ]
          },
          "metadata": {},
          "execution_count": 12
        }
      ]
    },
    {
      "cell_type": "markdown",
      "source": [
        "式(2.3)の確かめ"
      ],
      "metadata": {
        "id": "uzvo4haVfE1c"
      }
    },
    {
      "cell_type": "code",
      "source": [
        "2.0 * g.number_of_edges() / g.number_of_nodes()"
      ],
      "metadata": {
        "colab": {
          "base_uri": "https://localhost:8080/"
        },
        "id": "fJrjcDymfFv5",
        "outputId": "b6d298a6-b113-47d3-a99e-7804c18438f5"
      },
      "execution_count": 13,
      "outputs": [
        {
          "output_type": "execute_result",
          "data": {
            "text/plain": [
              "4.6605657237936775"
            ]
          },
          "metadata": {},
          "execution_count": 13
        }
      ]
    },
    {
      "cell_type": "markdown",
      "source": [
        "### 有向ネットワークの場合"
      ],
      "metadata": {
        "id": "wnJY4FkMfNEj"
      }
    },
    {
      "cell_type": "code",
      "source": [
        "np.mean([d for _, d in g_dir.in_degree()])"
      ],
      "metadata": {
        "colab": {
          "base_uri": "https://localhost:8080/"
        },
        "id": "CRLjWqxkfVbK",
        "outputId": "394a9314-6163-4b19-d285-bbe3b85faec2"
      },
      "execution_count": 14,
      "outputs": [
        {
          "output_type": "execute_result",
          "data": {
            "text/plain": [
              "2.3352745424292847"
            ]
          },
          "metadata": {},
          "execution_count": 14
        }
      ]
    },
    {
      "cell_type": "markdown",
      "source": [
        "これは以下とも等しくなる。"
      ],
      "metadata": {
        "id": "Tzu_5oGYfld2"
      }
    },
    {
      "cell_type": "code",
      "source": [
        "np.mean([d for _, d in g_dir.out_degree()])"
      ],
      "metadata": {
        "colab": {
          "base_uri": "https://localhost:8080/"
        },
        "id": "8QkbQa99fnct",
        "outputId": "6c9221a7-199d-4f0f-94c7-159c2c4725d1"
      },
      "execution_count": 15,
      "outputs": [
        {
          "output_type": "execute_result",
          "data": {
            "text/plain": [
              "2.3352745424292847"
            ]
          },
          "metadata": {},
          "execution_count": 15
        }
      ]
    },
    {
      "cell_type": "code",
      "source": [
        "g_dir.number_of_edges() / g_dir.number_of_nodes()"
      ],
      "metadata": {
        "colab": {
          "base_uri": "https://localhost:8080/"
        },
        "id": "51EbdvS3fq6s",
        "outputId": "e57bba34-0149-48c9-ab8c-bf798318c303"
      },
      "execution_count": 16,
      "outputs": [
        {
          "output_type": "execute_result",
          "data": {
            "text/plain": [
              "2.3352745424292847"
            ]
          },
          "metadata": {},
          "execution_count": 16
        }
      ]
    },
    {
      "cell_type": "markdown",
      "source": [
        "## 重み付き次数（strength）"
      ],
      "metadata": {
        "id": "ML3BD23kfxRu"
      }
    },
    {
      "cell_type": "markdown",
      "source": [
        "無向ネットワークの場合"
      ],
      "metadata": {
        "id": "LeuEpVp9f-HT"
      }
    },
    {
      "cell_type": "code",
      "source": [
        "np.mean([d for n, d in g.degree(weight='weight')])"
      ],
      "metadata": {
        "colab": {
          "base_uri": "https://localhost:8080/"
        },
        "id": "m2mZM9AWf2Oe",
        "outputId": "b8860994-1ddd-4eae-d470-15b840ed6e43"
      },
      "execution_count": 17,
      "outputs": [
        {
          "output_type": "execute_result",
          "data": {
            "text/plain": [
              "7.43824707483614"
            ]
          },
          "metadata": {},
          "execution_count": 17
        }
      ]
    },
    {
      "cell_type": "markdown",
      "source": [
        "有向ネットワークの場合"
      ],
      "metadata": {
        "id": "A1iO3H5FgA2n"
      }
    },
    {
      "cell_type": "code",
      "source": [
        "np.mean([d for _, d in g_dir.out_degree(weight='weight')])\n",
        "# または\n",
        "# np.mean([d for _, d in g_dir.in_degree(weight='weight')])"
      ],
      "metadata": {
        "colab": {
          "base_uri": "https://localhost:8080/"
        },
        "id": "nL_aB7gegAS4",
        "outputId": "3dc837d1-aa43-4938-9777-171d552b6642"
      },
      "execution_count": 18,
      "outputs": [
        {
          "output_type": "execute_result",
          "data": {
            "text/plain": [
              "3.7258172284026276"
            ]
          },
          "metadata": {},
          "execution_count": 18
        }
      ]
    },
    {
      "cell_type": "markdown",
      "source": [
        "## 次数分布"
      ],
      "metadata": {
        "id": "NBZjLLfigdzI"
      }
    },
    {
      "cell_type": "code",
      "source": [
        "# 次数分布の計算\n",
        "degree_dist = np.array(nx.degree_histogram(g)) / float(len(g))\n",
        "\n",
        "# 描画\n",
        "k = np.arange(len(degree_dist))\n",
        "plt.loglog(k, degree_dist, 'o')\n",
        "plt.xlabel('k')\n",
        "plt.ylabel('P(k)')"
      ],
      "metadata": {
        "colab": {
          "base_uri": "https://localhost:8080/",
          "height": 472
        },
        "id": "11ZMMiIkgfQA",
        "outputId": "6993b85a-9569-40e9-b22a-9f2d41514723"
      },
      "execution_count": 19,
      "outputs": [
        {
          "output_type": "execute_result",
          "data": {
            "text/plain": [
              "Text(0, 0.5, 'P(k)')"
            ]
          },
          "metadata": {},
          "execution_count": 19
        },
        {
          "output_type": "display_data",
          "data": {
            "text/plain": [
              "<Figure size 640x480 with 1 Axes>"
            ],
            "image/png": "[encoded data removed]"
          },
          "metadata": {}
        }
      ]
    },
    {
      "cell_type": "markdown",
      "source": [
        "累積分布で表示する場合"
      ],
      "metadata": {
        "id": "WuQ1CPBJiHpo"
      }
    },
    {
      "cell_type": "code",
      "source": [
        "# 累積分布の計算\n",
        "ccdf = np.round(1 - np.cumsum(degree_dist),12)\n",
        "\n",
        "# 描画\n",
        "k = np.arange(len(degree_dist))\n",
        "plt.loglog(k, ccdf, 'o')\n",
        "plt.xlabel('k')\n",
        "plt.ylabel('P(k)')"
      ],
      "metadata": {
        "colab": {
          "base_uri": "https://localhost:8080/",
          "height": 472
        },
        "id": "DNk-bhlYiJnN",
        "outputId": "ee3f1146-ce97-490f-a86d-5a8a603673c8"
      },
      "execution_count": 20,
      "outputs": [
        {
          "output_type": "execute_result",
          "data": {
            "text/plain": [
              "Text(0, 0.5, 'P(k)')"
            ]
          },
          "metadata": {},
          "execution_count": 20
        },
        {
          "output_type": "display_data",
          "data": {
            "text/plain": [
              "<Figure size 640x480 with 1 Axes>"
            ],
            "image/png": "[encoded data removed]"
          },
          "metadata": {}
        }
      ]
    },
    {
      "cell_type": "markdown",
      "source": [
        "次数分布を使っても平均次数を求められる。"
      ],
      "metadata": {
        "id": "4_f0k3Y7i9_f"
      }
    },
    {
      "cell_type": "code",
      "source": [
        "np.sum(k * degree_dist)"
      ],
      "metadata": {
        "colab": {
          "base_uri": "https://localhost:8080/"
        },
        "id": "1wlajwsOi-wN",
        "outputId": "2cbddfef-8e8b-47bb-dfb5-6d6c2de9fae2"
      },
      "execution_count": 21,
      "outputs": [
        {
          "output_type": "execute_result",
          "data": {
            "text/plain": [
              "4.6605657237936775"
            ]
          },
          "metadata": {},
          "execution_count": 21
        }
      ]
    },
    {
      "cell_type": "markdown",
      "source": [
        "## 同類度係数\n",
        "\n",
        "無向ネットワークの場合（重みなし）式(2.8)"
      ],
      "metadata": {
        "id": "ho37p9nsjIDd"
      }
    },
    {
      "cell_type": "code",
      "source": [
        "nx.degree_assortativity_coefficient(g)"
      ],
      "metadata": {
        "colab": {
          "base_uri": "https://localhost:8080/"
        },
        "id": "QPrLkuo1jVL_",
        "outputId": "d86fefdf-eef9-44dd-a541-7090bec91600"
      },
      "execution_count": 22,
      "outputs": [
        {
          "output_type": "execute_result",
          "data": {
            "text/plain": [
              "-0.33598536993023903"
            ]
          },
          "metadata": {},
          "execution_count": 22
        }
      ]
    },
    {
      "cell_type": "markdown",
      "source": [
        "有向ネットワークの場合"
      ],
      "metadata": {
        "id": "pX0UyWQojho2"
      }
    },
    {
      "cell_type": "code",
      "source": [
        "# 入次数を使用する場合\n",
        "nx.degree_assortativity_coefficient(g_dir, x='in', y='in')\n",
        "\n",
        "# 出次数を使用する場合\n",
        "nx.degree_assortativity_coefficient(g_dir, x='out', y='out')\n",
        "\n",
        "# 入次数と出次数の混合を使用する場合\n",
        "nx.degree_assortativity_coefficient(g_dir, x='in', y='out')"
      ],
      "metadata": {
        "colab": {
          "base_uri": "https://localhost:8080/"
        },
        "id": "CyRb8lXDjj8h",
        "outputId": "0140f665-9ea7-4766-e778-569b31c5d169"
      },
      "execution_count": 23,
      "outputs": [
        {
          "output_type": "execute_result",
          "data": {
            "text/plain": [
              "-0.028015311974269392"
            ]
          },
          "metadata": {},
          "execution_count": 23
        }
      ]
    },
    {
      "cell_type": "markdown",
      "source": [
        "## クラスタ係数\n",
        "\n",
        "各ノードに対するクラスタ係数"
      ],
      "metadata": {
        "id": "9Ry8KIvCj7Tn"
      }
    },
    {
      "cell_type": "code",
      "source": [
        "cc = nx.clustering(g)"
      ],
      "metadata": {
        "id": "ReqOjQ5akFJH"
      },
      "execution_count": 24,
      "outputs": []
    },
    {
      "cell_type": "markdown",
      "source": [
        "平均クラスタ係数"
      ],
      "metadata": {
        "id": "ACpD46RckJOf"
      }
    },
    {
      "cell_type": "code",
      "source": [
        "nx.average_clustering(g)"
      ],
      "metadata": {
        "colab": {
          "base_uri": "https://localhost:8080/"
        },
        "id": "Ai7i-1uVkLiP",
        "outputId": "1d1758c3-4eeb-40ba-847a-6bf17b5e27b5"
      },
      "execution_count": 25,
      "outputs": [
        {
          "output_type": "execute_result",
          "data": {
            "text/plain": [
              "0.25969353909583504"
            ]
          },
          "metadata": {},
          "execution_count": 25
        }
      ]
    },
    {
      "cell_type": "markdown",
      "source": [
        "もしくは"
      ],
      "metadata": {
        "id": "FXtwMwCqkQ0P"
      }
    },
    {
      "cell_type": "code",
      "source": [
        "np.mean(list(cc.values()))"
      ],
      "metadata": {
        "colab": {
          "base_uri": "https://localhost:8080/"
        },
        "id": "Mtn2isJxkPSy",
        "outputId": "472f389f-ab3b-4fef-e830-f35043e8206e"
      },
      "execution_count": 26,
      "outputs": [
        {
          "output_type": "execute_result",
          "data": {
            "text/plain": [
              "0.2596935390958357"
            ]
          },
          "metadata": {},
          "execution_count": 26
        }
      ]
    },
    {
      "cell_type": "markdown",
      "source": [
        "## 重み付きクラスタ係数"
      ],
      "metadata": {
        "id": "e49RyRBCk7_M"
      }
    },
    {
      "cell_type": "code",
      "source": [
        "# 各ノードの重み付きクラスタリング係数\n",
        "wcc = nx.clustering(g, weight='weight')\n",
        "\n",
        "# 平均重み付きクラスタリング係数\n",
        "np.mean(list(wcc.values()))\n",
        "# または\n",
        "nx.average_clustering(g, weight='weight')"
      ],
      "metadata": {
        "colab": {
          "base_uri": "https://localhost:8080/"
        },
        "id": "QZldnz_AlE67",
        "outputId": "28274860-8719-4288-ec4b-2b96ed244d3d"
      },
      "execution_count": 27,
      "outputs": [
        {
          "output_type": "execute_result",
          "data": {
            "text/plain": [
              "0.006331839127955939"
            ]
          },
          "metadata": {},
          "execution_count": 27
        }
      ]
    },
    {
      "cell_type": "markdown",
      "source": [
        "## 最短経路\n",
        "\n",
        "最短経路長行列：各ノード間の距離行列に対応する"
      ],
      "metadata": {
        "id": "J5oVEXc9lRUY"
      }
    },
    {
      "cell_type": "code",
      "source": [
        "distances = dict(nx.all_pairs_shortest_path_length(g))\n",
        "# 重み付きの場合\n",
        "distances = dict(nx.all_pairs_dijkstra_path_length(g, weight='weight'))"
      ],
      "metadata": {
        "id": "SvXKugoLlTQX"
      },
      "execution_count": 28,
      "outputs": []
    },
    {
      "cell_type": "markdown",
      "source": [
        "## 効率性\n",
        "### 大域効率性"
      ],
      "metadata": {
        "id": "hy-u_09umiAD"
      }
    },
    {
      "cell_type": "code",
      "source": [
        "n = len(g)\n",
        "nodal_global_efficiency = {}\n",
        "for i in g.nodes():\n",
        "  efficiency = 0\n",
        "  for j in g.nodes():\n",
        "      if i != j and j in distances[i]:\n",
        "          efficiency += 1.0 / distances[i][j]\n",
        "  nodal_global_efficiency[i] = efficiency / (n - 1)\n",
        "\n",
        "ave_global_efficiency = sum(nodal_global_efficiency.values()) / n\n",
        "\n",
        "print(f\"Average Global Efficiency: {ave_global_efficiency}\")"
      ],
      "metadata": {
        "colab": {
          "base_uri": "https://localhost:8080/"
        },
        "id": "LO_JuvHemkBr",
        "outputId": "9651f842-beea-4b50-d5e7-64be7de25cab"
      },
      "execution_count": 29,
      "outputs": [
        {
          "output_type": "stream",
          "name": "stdout",
          "text": [
            "Average Global Efficiency: 0.5058656887131002\n"
          ]
        }
      ]
    },
    {
      "cell_type": "markdown",
      "source": [
        "Average Global Efficiencyだけなら、``nx.global_efficiency()``でも求めることもできる。ただし、ノード毎のGlobal Efficiencyは計算されない。また重み付きネットワークには対応していない。"
      ],
      "metadata": {
        "id": "gklbGxaaQr4i"
      }
    },
    {
      "cell_type": "markdown",
      "source": [
        "### 局所効率性"
      ],
      "metadata": {
        "id": "ZYyxoPrUoM3-"
      }
    },
    {
      "cell_type": "code",
      "source": [
        "nodal_local_efficiency = {}\n",
        "for node in g.nodes():\n",
        "  # 隣接ノードを取得\n",
        "  neighbors = list(g.neighbors(node))\n",
        "  num_neighbors = len(neighbors)\n",
        "\n",
        "  if num_neighbors > 1:\n",
        "    # 隣接ノード間の効率性の合計を計算\n",
        "    efficiency_sum = 0\n",
        "    for i, j in permutations(neighbors, 2):\n",
        "        # 隣接ノード間の距離を取得\n",
        "        if j in distances[i]:\n",
        "            efficiency_sum += 1.0 / distances[i][j]\n",
        "\n",
        "    # ノードの局所効率性を計算\n",
        "    local_eff = efficiency_sum / (num_neighbors * (num_neighbors - 1))\n",
        "    nodal_local_efficiency[node] = local_eff\n",
        "\n",
        "  else:\n",
        "    nodal_local_efficiency[node] = 0\n",
        "\n",
        "# 平均局所効率性を計算\n",
        "ave_local_efficiency = sum(nodal_local_efficiency.values()) / len(g)\n",
        "\n",
        "print(f\"Average Local Efficiency: {ave_local_efficiency}\")"
      ],
      "metadata": {
        "colab": {
          "base_uri": "https://localhost:8080/"
        },
        "id": "dJLATJjrovyO",
        "outputId": "aa897d56-6960-4574-9dbb-c7872b3f286a"
      },
      "execution_count": 30,
      "outputs": [
        {
          "output_type": "stream",
          "name": "stdout",
          "text": [
            "Average Local Efficiency: 1.1969922135287185\n"
          ]
        }
      ]
    },
    {
      "cell_type": "markdown",
      "source": [
        "Average Local Efficiencyだけなら、``nx.local_efficiency()``でも求めることもできる。ただし、ノード毎のLocal Efficiencyは計算されない。また重み付きネットワークには対応していない。"
      ],
      "metadata": {
        "id": "wR_hKu6OQ-Ua"
      }
    },
    {
      "cell_type": "markdown",
      "source": [
        "## やってみよう\n",
        "* このNotebookを参考にして，別の生物ネットワークのネットワーク指標を計算してみよう（``data``に様々ある）。\n",
        "* Notebookを参考に自分のデータを解析してみよう。"
      ],
      "metadata": {
        "id": "TgABsBqzsXvH"
      }
    }
  ]
}